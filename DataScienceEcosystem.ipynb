{
 "cells": [
  {
   "cell_type": "markdown",
   "id": "f89a33b6-db87-42b3-9a61-ce9fc58ae962",
   "metadata": {},
   "source": [
    "# Data Science Tools and Ecosystem"
   ]
  },
  {
   "cell_type": "markdown",
   "id": "2a26df20-ef55-4cf7-88c6-1da7330da041",
   "metadata": {},
   "source": [
    "In this notebook, Data Science Tools and Ecosystem are summarized."
   ]
  },
  {
   "cell_type": "markdown",
   "id": "546b710c-9594-483d-a0ae-1dfee310455e",
   "metadata": {},
   "source": [
    "__Objectives:__\n",
    " *  List popular languages for Data Science\n",
    " *  List popular libraries for Data Science\n",
    " *  List popular languages for Data Science\n",
    "               "
   ]
  },
  {
   "cell_type": "markdown",
   "id": "2724689c-4c08-4e9a-b963-91ba0978fefe",
   "metadata": {},
   "source": [
    "Some of the popular languages that Data Scientists use are:\n",
    "1. R\n",
    "2. Python\n",
    "3. Julia"
   ]
  },
  {
   "cell_type": "markdown",
   "id": "7dcf2876-f4e1-42fc-b231-e94351613f9e",
   "metadata": {},
   "source": [
    "Some of the commonly used libraries used by Data Scientists include:\n",
    "1. Matplotlib\n",
    "2. pandas\n",
    "3. NumPy\n",
    "4. SciKit learn"
   ]
  },
  {
   "cell_type": "markdown",
   "id": "3c0b02ed-dce3-434e-ad66-a270ee14e457",
   "metadata": {},
   "source": [
    "| Data Science Tools |\n",
    "|:------------------|\n",
    "| Apache Hadoop |\n",
    "| TensorFlow |\n",
    "| Apache Spark |"
   ]
  },
  {
   "cell_type": "markdown",
   "id": "f4fc8ea9-9957-4d7d-9a81-12287867ef49",
   "metadata": {},
   "source": [
    "### Below are a few examples of evaluating arithmetic expressions in Python."
   ]
  },
  {
   "cell_type": "code",
   "execution_count": 3,
   "id": "564bd6be-be2c-4812-ab46-0114e369ea64",
   "metadata": {},
   "outputs": [
    {
     "data": {
      "text/plain": [
       "17"
      ]
     },
     "execution_count": 3,
     "metadata": {},
     "output_type": "execute_result"
    }
   ],
   "source": [
    "# This a simple arithmetic expression to mutiply then add integers\n",
    "(3*4)+5"
   ]
  },
  {
   "cell_type": "code",
   "execution_count": 5,
   "id": "8fed38a2-cd09-41dc-97b9-457138b3bc9b",
   "metadata": {},
   "outputs": [
    {
     "data": {
      "text/plain": [
       "3.3333333333333335"
      ]
     },
     "execution_count": 5,
     "metadata": {},
     "output_type": "execute_result"
    }
   ],
   "source": [
    "# This will convert 200 minutes to hours by diving by 60\n",
    "200/60 "
   ]
  },
  {
   "cell_type": "markdown",
   "id": "caed1e09-a343-4e29-963c-03b6439b8635",
   "metadata": {},
   "source": [
    "## Author\n",
    "Shubham Bisht"
   ]
  },
  {
   "cell_type": "code",
   "execution_count": null,
   "id": "209b173d-02dc-4dfb-b625-d86a7bb8e3c6",
   "metadata": {},
   "outputs": [],
   "source": []
  }
 ],
 "metadata": {
  "kernelspec": {
   "display_name": "Python 3 (ipykernel)",
   "language": "python",
   "name": "python3"
  },
  "language_info": {
   "codemirror_mode": {
    "name": "ipython",
    "version": 3
   },
   "file_extension": ".py",
   "mimetype": "text/x-python",
   "name": "python",
   "nbconvert_exporter": "python",
   "pygments_lexer": "ipython3",
   "version": "3.12.1"
  }
 },
 "nbformat": 4,
 "nbformat_minor": 5
}
